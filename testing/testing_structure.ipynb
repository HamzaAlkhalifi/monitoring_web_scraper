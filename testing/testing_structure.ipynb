{
 "cells": [
  {
   "cell_type": "code",
   "execution_count": 1,
   "id": "185c1286-9882-498a-b0b8-bf8a018ba298",
   "metadata": {},
   "outputs": [],
   "source": [
    "import curl_cffi\n",
    "from selectolax.parser import HTMLParser"
   ]
  },
  {
   "cell_type": "code",
   "execution_count": 2,
   "id": "e95c2846-f274-4994-b654-b3a9f9a79ca3",
   "metadata": {},
   "outputs": [
    {
     "name": "stdout",
     "output_type": "stream",
     "text": [
      "200\n"
     ]
    }
   ],
   "source": [
    "res = curl_cffi.requests.get(\"https://www.allbirds.com/collections/mens-new-arrivals\", impersonate=\"chrome\")\n",
    "print(res.status_code)"
   ]
  },
  {
   "cell_type": "code",
   "execution_count": 4,
   "id": "1177dae0-a3f5-47ee-91ab-f2d5cd8e5f89",
   "metadata": {},
   "outputs": [],
   "source": [
    "parser = HTMLParser(res.text)"
   ]
  },
  {
   "cell_type": "code",
   "execution_count": 12,
   "id": "05b112f2-ba15-44da-9084-344431997df1",
   "metadata": {},
   "outputs": [],
   "source": [
    "products = parser.css('div.grid.grid-flow-dense.grid-cols-2[class~=\"md:grid-cols-4\"]')[0]"
   ]
  },
  {
   "cell_type": "code",
   "execution_count": 28,
   "id": "ffa70a1d-25fd-4259-bb00-4ad25264b5e2",
   "metadata": {
    "scrolled": true
   },
   "outputs": [
    {
     "name": "stdout",
     "output_type": "stream",
     "text": [
      "Men's Wool Cruiser\n",
      "Men's Tree Dasher 2\n",
      "Men's Tree Runner NZ\n",
      "Men's Wool Cruiser Slip On\n",
      "Men's Wool Runner NZ\n",
      "Men's Wool Cruiser Waterproof\n",
      "Men's Wool Runner NZ Waterproof\n",
      "Men's Wool Runner NZ Mid Waterproof\n",
      "Allbirds Slipper\n",
      "Men's Strider Explore\n",
      "Men's Cruiser Mid Explore\n",
      "Men's Cruiser Slip On Corduroy\n",
      "Men's Runner NZ Corduroy\n",
      "Men's Cruiser Corduroy\n",
      "Men's Runner NZ Remix\n",
      "Men's Cruiser Remix\n",
      "Men's Strider\n",
      "Men's Wool Strider\n",
      "Men's Wool Runner Chelsea\n",
      "Men's Cruiser\n",
      "Men's Tree Glider\n",
      "Men's Tree Dasher Relay\n",
      "Men's Canvas Piper\n",
      "Men's Merino Blend Sweatshirt\n",
      "Men's Merino Blend Sweatpant\n",
      "Unisex Merino Blend Hoodie\n",
      "Men's Soft Merino Tee\n",
      "Men's Soft Merino Long Sleeve Tee\n",
      "Recycled Belt Bag\n",
      "Recycled Shoe Bag\n",
      "Recycled Tote Bag\n"
     ]
    }
   ],
   "source": [
    "for product in products.css(\"div.group.relative.flex.h-full\"):\n",
    "    text = product.css_first(\"p.font-sans.text-xs.font-medium.tracking-wider.uppercase[class~='md:text-sm']\")\n",
    "    print(text.text())\n"
   ]
  },
  {
   "cell_type": "code",
   "execution_count": 43,
   "id": "3c832006-4038-4ad0-9cfc-d6d9ac74203a",
   "metadata": {},
   "outputs": [
    {
     "name": "stdout",
     "output_type": "stream",
     "text": [
      " 100\n"
     ]
    }
   ],
   "source": [
    "for product in products.css(\"div.group.relative.flex.h-full\"):\n",
    "    price = product.css_first(\"p.flex.items-center.text-xs[class~='xl:hidden'] span\")\n",
    "    print(price.attrs[\"v-text\"].split(\"|\")[-1].replace(\"'\", \"\").replace(\"$\", \"\"))\n",
    "    break"
   ]
  },
  {
   "cell_type": "code",
   "execution_count": 44,
   "id": "b56f9aa2-ae00-4104-9b78-9746b38ab0b7",
   "metadata": {
    "scrolled": true
   },
   "outputs": [
    {
     "name": "stdout",
     "output_type": "stream",
     "text": [
      "Men's Wool Cruiser\n",
      " 100\n",
      "Men's Tree Dasher 2\n",
      " 135\n",
      "Men's Tree Runner NZ\n",
      " 110\n",
      "Men's Wool Cruiser Slip On\n",
      " 95\n",
      "Men's Wool Runner NZ\n",
      " 110\n",
      "Men's Wool Cruiser Waterproof\n",
      " 140\n",
      "Men's Wool Runner NZ Waterproof\n",
      " 150\n",
      "Men's Wool Runner NZ Mid Waterproof\n",
      " 160\n",
      "Allbirds Slipper\n",
      " 75\n",
      "Men's Strider Explore\n",
      " 130\n",
      "Men's Cruiser Mid Explore\n",
      " 140\n",
      "Men's Cruiser Slip On Corduroy\n",
      " 105\n",
      "Men's Runner NZ Corduroy\n",
      " 120\n",
      "Men's Cruiser Corduroy\n",
      " 110\n",
      "Men's Runner NZ Remix\n",
      " 140\n",
      "Men's Cruiser Remix\n",
      " 140\n",
      "Men's Strider\n",
      " 88\n",
      "Men's Wool Strider\n",
      " 88\n",
      "Men's Wool Runner Chelsea\n",
      " 160\n",
      "Men's Cruiser\n",
      " 100\n",
      "Men's Tree Glider\n",
      " 135\n",
      "Men's Tree Dasher Relay\n",
      " 130\n",
      "Men's Canvas Piper\n",
      " 90\n",
      "Men's Merino Blend Sweatshirt\n",
      " 90\n",
      "Men's Merino Blend Sweatpant\n",
      " 95\n",
      "Unisex Merino Blend Hoodie\n",
      " 98\n",
      "Men's Soft Merino Tee\n",
      " 45\n",
      "Men's Soft Merino Long Sleeve Tee\n",
      " 50\n",
      "Recycled Belt Bag\n",
      " 35\n",
      "Recycled Shoe Bag\n",
      " 20\n",
      "Recycled Tote Bag\n",
      " 45\n"
     ]
    }
   ],
   "source": [
    "for product in products.css(\"div.group.relative.flex.h-full\"):\n",
    "    text = product.css_first(\"p.font-sans.text-xs.font-medium.tracking-wider.uppercase[class~='md:text-sm']\")\n",
    "    price = product.css_first(\"p.flex.items-center.text-xs[class~='xl:hidden'] span\")\n",
    "    \n",
    "    print(text.text())\n",
    "    print(price.attrs[\"v-text\"].split(\"|\")[-1].replace(\"'\", \"\").replace(\"$\", \"\"))\n"
   ]
  },
  {
   "cell_type": "code",
   "execution_count": null,
   "id": "428d48b9-a4bc-4d6f-a0fc-b3893e7539be",
   "metadata": {},
   "outputs": [],
   "source": []
  },
  {
   "cell_type": "code",
   "execution_count": null,
   "id": "ec74abcc-733c-4db2-9e5c-7ff27e22cac9",
   "metadata": {},
   "outputs": [],
   "source": []
  }
 ],
 "metadata": {
  "kernelspec": {
   "display_name": "Python 3 (ipykernel)",
   "language": "python",
   "name": "python3"
  },
  "language_info": {
   "codemirror_mode": {
    "name": "ipython",
    "version": 3
   },
   "file_extension": ".py",
   "mimetype": "text/x-python",
   "name": "python",
   "nbconvert_exporter": "python",
   "pygments_lexer": "ipython3",
   "version": "3.13.7"
  }
 },
 "nbformat": 4,
 "nbformat_minor": 5
}
